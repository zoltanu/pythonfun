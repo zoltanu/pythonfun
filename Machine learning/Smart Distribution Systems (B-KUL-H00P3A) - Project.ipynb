{
 "cells": [
  {
   "cell_type": "markdown",
   "metadata": {},
   "source": [
    "# Smart Distribution Systems (B-KUL-H00P3A)\n",
    "## Homework Project"
   ]
  },
  {
   "cell_type": "markdown",
   "metadata": {},
   "source": [
    "Importing necessary libraries"
   ]
  },
  {
   "cell_type": "code",
   "execution_count": 2,
   "metadata": {},
   "outputs": [
    {
     "name": "stderr",
     "output_type": "stream",
     "text": [
      "C:\\Users\\Udvardy\\Anaconda3\\envs\\new\\lib\\site-packages\\sklearn\\cross_validation.py:41: DeprecationWarning: This module was deprecated in version 0.18 in favor of the model_selection module into which all the refactored classes and functions are moved. Also note that the interface of the new CV iterators are different from that of this module. This module will be removed in 0.20.\n",
      "  \"This module will be removed in 0.20.\", DeprecationWarning)\n"
     ]
    }
   ],
   "source": [
    "import pandas as pd\n",
    "import numpy as np\n",
    "#%matplotlib ipympl\n",
    "import matplotlib.pyplot as plt\n",
    "import time\n",
    "import pickle\n",
    "import datetime\n",
    "from datafetcher import EliaTotalLoadForecastFetcher, EliaWindFetcher, EliaSolarFetcher, ElexysBelpexFetcher\n",
    "import datetime as dt\n",
    "from sklearn.cross_validation import train_test_split, cross_val_predict, KFold\n",
    "from sklearn.preprocessing import MinMaxScaler\n",
    "import math\n",
    "from sklearn.metrics import mean_squared_error"
   ]
  },
  {
   "cell_type": "markdown",
   "metadata": {},
   "source": [
    "Setting start and end date"
   ]
  },
  {
   "cell_type": "code",
   "execution_count": 3,
   "metadata": {},
   "outputs": [],
   "source": [
    "start_date = dt.datetime(2016,1,1)\n",
    "end_date = dt.datetime(2018,4,23)"
   ]
  },
  {
   "cell_type": "markdown",
   "metadata": {},
   "source": [
    "Fetch data"
   ]
  },
  {
   "cell_type": "code",
   "execution_count": 4,
   "metadata": {},
   "outputs": [],
   "source": [
    "df_belpex = ElexysBelpexFetcher().fetch().price\n",
    "df_solar = EliaSolarFetcher().fetch().LoadFactor[start_date:end_date]\n",
    "df_wind = EliaWindFetcher().fetch().LoadFactor[start_date:end_date]\n",
    "df_load = EliaTotalLoadForecastFetcher().fetch().value[start_date:end_date]"
   ]
  },
  {
   "cell_type": "code",
   "execution_count": 5,
   "metadata": {},
   "outputs": [],
   "source": [
    "#df_wind.tail()\n",
    "#df_load.tail()\n",
    "#df_solar.tail()\n",
    "#df_belpex.head()"
   ]
  },
  {
   "cell_type": "code",
   "execution_count": 6,
   "metadata": {},
   "outputs": [],
   "source": [
    "dates = pd.date_range(start=start_date, end=end_date, freq='1H')\n",
    "for d in dates:\n",
    "    try:\n",
    "        p = df_belpex[d]\n",
    "    except KeyError:\n",
    "        df_belpex.loc[d] = df_belpex[d-dt.timedelta(hours=1)]\n",
    "df_belpex = df_belpex.sort_index()\n",
    "df_belpex = df_belpex[start_date:end_date]"
   ]
  },
  {
   "cell_type": "code",
   "execution_count": 7,
   "metadata": {},
   "outputs": [],
   "source": [
    "dates = pd.date_range(start=start_date, end=end_date, freq='15T')\n",
    "for d in dates:\n",
    "    try:\n",
    "        p = df_wind[d]\n",
    "    except KeyError:\n",
    "        df_wind.loc[d] = df_wind[d-dt.timedelta(minutes=15)]"
   ]
  },
  {
   "cell_type": "code",
   "execution_count": 8,
   "metadata": {},
   "outputs": [],
   "source": [
    "for d in dates:\n",
    "    try:\n",
    "        p = df_solar[d]\n",
    "    except KeyError:\n",
    "        df_solar.loc[d] = df_solar[d-dt.timedelta(minutes=15)]"
   ]
  },
  {
   "cell_type": "code",
   "execution_count": 9,
   "metadata": {},
   "outputs": [],
   "source": [
    "for d in dates:\n",
    "    try:\n",
    "        p = df_load[d]\n",
    "    except KeyError:\n",
    "        df_load.loc[d] = df_load[d-dt.timedelta(minutes=15)]"
   ]
  },
  {
   "cell_type": "code",
   "execution_count": 10,
   "metadata": {},
   "outputs": [],
   "source": [
    "df_belpex = df_belpex.fillna(method='pad')\n",
    "df_solar =  df_solar.fillna(method='pad')\n",
    "df_wind =  df_wind.fillna(method='pad')\n",
    "df_load =  df_load.fillna(method='pad')"
   ]
  },
  {
   "cell_type": "code",
   "execution_count": 11,
   "metadata": {},
   "outputs": [],
   "source": [
    "#dates = pd.date_range(start=start_date, end=end_date, freq='15T')\n",
    "#for d in dates:\n",
    "#    if(pd.isnull(df_wind[d])):\n",
    "#        print('- missing wind data' + d) \n",
    "#    if(pd.isnull(df_solar[d])):\n",
    "#        print('- missing solar data' + d) \n",
    "#    if(pd.isnull(df_load[d])):\n",
    "#        print('- missing load data' + d) \n",
    "\n",
    "dates = pd.date_range(start=start_date, end=end_date, freq='1H')\n",
    "for d in dates:\n",
    "    if(pd.isnull(df_belpex[d])):\n",
    "       print('- missing price data' + d) "
   ]
  },
  {
   "cell_type": "code",
   "execution_count": 12,
   "metadata": {},
   "outputs": [],
   "source": [
    "df_belpex = df_belpex.resample('15T').pad()"
   ]
  },
  {
   "cell_type": "code",
   "execution_count": 13,
   "metadata": {},
   "outputs": [],
   "source": [
    "d = {'belpex': df_belpex.values,'load':df_load.values, 'solar': df_solar.values, 'wind': df_wind.values}\n",
    "data = pd.DataFrame(index=df_belpex.index, data=d)\n",
    "#data.head(10)\n",
    "#data.tail(10)"
   ]
  },
  {
   "cell_type": "code",
   "execution_count": 14,
   "metadata": {},
   "outputs": [],
   "source": [
    "mean = data.belpex.mean()\n",
    "std = data.belpex.std()\n",
    "n_std = 5\n",
    "data['belpex'][(data.belpex >= mean + n_std*std)] = mean + n_std*std \n",
    "data['belpex'][(data.belpex <= mean - n_std*std)] = mean + n_std*std "
   ]
  },
  {
   "cell_type": "code",
   "execution_count": 112,
   "metadata": {},
   "outputs": [
    {
     "name": "stderr",
     "output_type": "stream",
     "text": [
      "C:\\Users\\Udvardy\\Anaconda3\\envs\\new\\lib\\site-packages\\ipykernel_launcher.py:4: FutureWarning: reshape is deprecated and will raise in a subsequent release. Please use .values.reshape(...) instead\n",
      "  after removing the cwd from sys.path.\n",
      "C:\\Users\\Udvardy\\Anaconda3\\envs\\new\\lib\\site-packages\\ipykernel_launcher.py:5: FutureWarning: reshape is deprecated and will raise in a subsequent release. Please use .values.reshape(...) instead\n",
      "  \"\"\"\n",
      "C:\\Users\\Udvardy\\Anaconda3\\envs\\new\\lib\\site-packages\\ipykernel_launcher.py:6: FutureWarning: reshape is deprecated and will raise in a subsequent release. Please use .values.reshape(...) instead\n",
      "  \n",
      "C:\\Users\\Udvardy\\Anaconda3\\envs\\new\\lib\\site-packages\\ipykernel_launcher.py:7: FutureWarning: reshape is deprecated and will raise in a subsequent release. Please use .values.reshape(...) instead\n",
      "  import sys\n",
      "C:\\Users\\Udvardy\\Anaconda3\\envs\\new\\lib\\site-packages\\ipykernel_launcher.py:29: FutureWarning: reshape is deprecated and will raise in a subsequent release. Please use .values.reshape(...) instead\n"
     ]
    }
   ],
   "source": [
    "n_hours = 24\n",
    "start = datetime.datetime(2017, 1, 2, 0, 0)\n",
    "end = datetime.datetime(2018, 4, 21, 23, 45)\n",
    "X = data['belpex'][start:end].resample('1H').mean().reshape(-1, n_hours)\n",
    "X2 = data['load'][start:end].resample('1H').mean().reshape(-1, n_hours)\n",
    "X3 = data['solar'][start:end].resample('1H').mean().reshape(-1, n_hours)\n",
    "X4 = data['wind'][start:end].resample('1H').mean().reshape(-1, n_hours)\n",
    "\n",
    "\n",
    "start = datetime.datetime(2017, 1, 3, 0, 0)\n",
    "end = datetime.datetime(2018, 4, 22, 23, 45)\n",
    "Y = data['belpex'][start:end].resample('1H').mean().reshape(-1, n_hours)\n"
   ]
  },
  {
   "cell_type": "code",
   "execution_count": null,
   "metadata": {},
   "outputs": [],
   "source": [
    "scaler = MinMaxScaler(feature_range=(0, 1))\n",
    "scaler.fit(X)\n",
    "scaler.fit(X2)\n",
    "scaler.fit(X3)\n",
    "scaler.fit(X4)\n",
    "scaler.fit(Y)\n",
    "\n",
    "X = scaler.transform(X)\n",
    "X2= scaler.transform(X2)\n",
    "X3 = scaler.transform(X3)\n",
    "X4 = scaler.transform(X3)\n",
    "Y = scaler.transform(Y)"
   ]
  },
  {
   "cell_type": "code",
   "execution_count": null,
   "metadata": {},
   "outputs": [],
   "source": [
    "Z = np.stack((X,X2,X3,X4),axis=1)"
   ]
  },
  {
   "cell_type": "code",
   "execution_count": 113,
   "metadata": {},
   "outputs": [
    {
     "name": "stdout",
     "output_type": "stream",
     "text": [
      "[[0.38640494 0.42046379 0.60671937 ... 0.37445731 0.54690246 0.5996513 ]\n",
      " [0.26390403 0.39961351 0.55231953 ... 0.38627593 0.31491652 0.42464858]\n",
      " [0.29752817 0.33472335 0.56116081 ... 0.46575012 0.37170475 0.47684428]\n",
      " ...\n",
      " [0.2807161  0.29281937 0.4610984  ... 0.34370478 0.29415641 0.36700447]\n",
      " [0.37722646 0.27115541 0.42323695 ... 0.44802219 0.18815905 0.27274709]\n",
      " [0.17320974 0.1623271  0.33045559 ... 0.19126869 0.14718805 0.15397189]]\n"
     ]
    }
   ],
   "source": [
    "#print(X)\n",
    "#print(Y)\n",
    "#print(Z)\n",
    "print('input_features ' + str(Z.shape))\n",
    "print('target diminsions ' + str(Y.shape))"
   ]
  },
  {
   "cell_type": "code",
   "execution_count": 115,
   "metadata": {},
   "outputs": [],
   "source": [
    "import os"
   ]
  },
  {
   "cell_type": "code",
   "execution_count": 116,
   "metadata": {},
   "outputs": [],
   "source": [
    "from keras.models import Sequential\n",
    "from keras.layers.core import Dense, Flatten\n",
    "from keras.layers import LSTM\n",
    "from keras.optimizers import RMSprop, SGD\n",
    "from keras.layers.advanced_activations import LeakyReLU"
   ]
  },
  {
   "cell_type": "code",
   "execution_count": 119,
   "metadata": {},
   "outputs": [
    {
     "name": "stderr",
     "output_type": "stream",
     "text": [
      "C:\\Users\\Udvardy\\Anaconda3\\envs\\new\\lib\\site-packages\\ipykernel_launcher.py:5: UserWarning: Update your `LSTM` call to the Keras 2 API: `LSTM(235, activation=\"sigmoid\", input_shape=(4, 24), recurrent_activation=\"hard_sigmoid\")`\n",
      "  \"\"\"\n"
     ]
    }
   ],
   "source": [
    "neurons = [24,235,24]\n",
    "activation_functions = ['relu','linear']\n",
    "\n",
    "model = Sequential()\n",
    "model.add (LSTM (  neurons[1] , activation = 'sigmoid', inner_activation = 'hard_sigmoid' , input_shape =(Z.shape[1],Z.shape[2]) ))\n",
    "#model.add(Dense(neurons[0], input_shape=(Z.shape[1],Z.shape[2]), activation=activation_functions[0]))\n",
    "#model.add(LeakyReLU(alpha=.001))\n",
    "#model.add(Dense(neurons[1], activation=activation_functions[0]))\n",
    "#model.add(LeakyReLU(alpha=.001))\n",
    "#model.add(Flatten(input_shape=Z.shape[1:]))\n",
    "model.add(Dense(neurons[2], activation=activation_functions[1]))\n",
    "    \n",
    "rprop = RMSprop(lr=0.001, rho=0.9, epsilon=1e-6)\n",
    "model.compile(loss='mean_squared_error', optimizer=rprop)"
   ]
  },
  {
   "cell_type": "code",
   "execution_count": 120,
   "metadata": {},
   "outputs": [
    {
     "name": "stdout",
     "output_type": "stream",
     "text": [
      "- mse is 76.7690 @ 800\n"
     ]
    }
   ],
   "source": [
    "output_training = model.fit(Z, Y, epochs=800, batch_size=25, verbose=0)\n",
    "mse = output_training.history['loss'][-1]\n",
    "print('- mse is %.4f' % mse + ' @ ' + str(len(output_training.history['loss'])))"
   ]
  },
  {
   "cell_type": "code",
   "execution_count": 122,
   "metadata": {},
   "outputs": [
    {
     "name": "stdout",
     "output_type": "stream",
     "text": [
      "[ 5475.9883  4476.0557  4067.4348  2941.394   3532.8296  4621.032\n",
      "  6968.0938 10296.128  11923.238  11928.45   11380.828  10236.772\n",
      " 11371.649   9059.318   8367.557   7643.096   9036.298  10215.093\n",
      " 11597.507   9549.725   6791.2324  4609.879   5259.41    5295.616 ]\n",
      "[[5784.8592 4403.23   4335.3122 ... 4072.638  6276.1192 5975.02  ]\n",
      " [4301.52   4201.674  3832.5    ... 4153.8996 4353.3544 4501.1938]\n",
      " [4708.668  3574.3924 3914.219  ... 4700.3424 4824.0312 4940.7721]\n",
      " ...\n",
      " [4505.094  3169.314  2989.3522 ... 3861.192  4181.2888 4015.7305]\n",
      " [5673.7188 2959.8924 2639.4026 ... 4578.45   3302.7528 3221.92  ]\n",
      " [3203.3208 1907.8684 1781.8338 ... 2813.0832 2963.1736 2221.627 ]]\n",
      "Train Score: 1561.40 RMSE\n"
     ]
    }
   ],
   "source": [
    "Z_train_predict=model.predict(Z)\n",
    "Z_train_predict=scaler.inverse_transform(Z_train_predict)\n",
    "Y=scaler.inverse_transform(Y)\n",
    "\n",
    "print(Z_train_predict[0])\n",
    "print(Y)\n",
    "\n",
    "trainScore = math.sqrt(mean_squared_error(Y[0], Z_train_predict[0]))\n",
    "print('Train Score: %.2f RMSE' % (trainScore))"
   ]
  },
  {
   "cell_type": "code",
   "execution_count": 123,
   "metadata": {},
   "outputs": [
    {
     "name": "stderr",
     "output_type": "stream",
     "text": [
      "C:\\Users\\Udvardy\\Anaconda3\\envs\\new\\lib\\site-packages\\ipykernel_launcher.py:6: FutureWarning: reshape is deprecated and will raise in a subsequent release. Please use .values.reshape(...) instead\n",
      "  \n",
      "C:\\Users\\Udvardy\\Anaconda3\\envs\\new\\lib\\site-packages\\ipykernel_launcher.py:7: FutureWarning: reshape is deprecated and will raise in a subsequent release. Please use .values.reshape(...) instead\n",
      "  import sys\n",
      "C:\\Users\\Udvardy\\Anaconda3\\envs\\new\\lib\\site-packages\\ipykernel_launcher.py:8: FutureWarning: reshape is deprecated and will raise in a subsequent release. Please use .values.reshape(...) instead\n",
      "  \n",
      "C:\\Users\\Udvardy\\Anaconda3\\envs\\new\\lib\\site-packages\\ipykernel_launcher.py:9: FutureWarning: reshape is deprecated and will raise in a subsequent release. Please use .values.reshape(...) instead\n",
      "  if __name__ == '__main__':\n",
      "C:\\Users\\Udvardy\\Anaconda3\\envs\\new\\lib\\site-packages\\ipykernel_launcher.py:25: FutureWarning: reshape is deprecated and will raise in a subsequent release. Please use .values.reshape(...) instead\n"
     ]
    }
   ],
   "source": [
    "#Test data\n",
    "\n",
    "n_hours = 24\n",
    "start = datetime.datetime(2016, 1, 1, 0, 0)\n",
    "end = datetime.datetime(2016, 12, 30, 23, 45)\n",
    "Test_X = data['belpex'][start:end].resample('1H').mean().reshape(-1, n_hours)\n",
    "Test_X2 = data['load'][start:end].resample('1H').mean().reshape(-1, n_hours)\n",
    "Test_X3 = data['solar'][start:end].resample('1H').mean().reshape(-1, n_hours)\n",
    "Test_X4 = data['wind'][start:end].resample('1H').mean().reshape(-1, n_hours)\n",
    "\n",
    "start = datetime.datetime(2016, 1, 2, 0, 0)\n",
    "end = datetime.datetime(2016, 12, 31, 23, 45)\n",
    "Test_Y = data['belpex'][start:end].resample('1H').mean().reshape(-1, n_hours)\n"
   ]
  },
  {
   "cell_type": "code",
   "execution_count": null,
   "metadata": {},
   "outputs": [],
   "source": [
    "scaler.fit(Test_X)\n",
    "scaler.fit(Test_X2)\n",
    "scaler.fit(Test_X3)\n",
    "scaler.fit(Test_X4)\n",
    "\n",
    "Test_X = scaler.transform(Test_X)\n",
    "Test_X2= scaler.transform(Test_X2)\n",
    "Test_X3 = scaler.transform(Test_X3)\n",
    "Test_X4 = scaler.transform(Test_X4)"
   ]
  },
  {
   "cell_type": "code",
   "execution_count": null,
   "metadata": {},
   "outputs": [],
   "source": [
    "Test_Z = np.stack((Test_X,Test_X2,Test_X3,Test_X4),axis=1)"
   ]
  },
  {
   "cell_type": "code",
   "execution_count": 124,
   "metadata": {},
   "outputs": [
    {
     "name": "stdout",
     "output_type": "stream",
     "text": [
      "0.3540333716756418\n"
     ]
    }
   ],
   "source": [
    "def get_accuracy(x, y):\n",
    "    return np.mean(np.abs(x - y))/np.mean(x)\n",
    "\n",
    "predict_nn = model.predict(Test_Z)\n",
    "predict_nn=scaler.inverse_transform(predict_nn)\n",
    "\n",
    "print(get_accuracy(Test_Y.flatten(), predict_nn.flatten()))\n"
   ]
  },
  {
   "cell_type": "code",
   "execution_count": 125,
   "metadata": {},
   "outputs": [
    {
     "data": {
      "image/png": "[encoded data removed]",
      "text/plain": [
       "<Figure size 432x288 with 1 Axes>"
      ]
     },
     "metadata": {},
     "output_type": "display_data"
    }
   ],
   "source": [
    "# Plots\n",
    "plt.figure()\n",
    "plt.plot(Test_Y[:10,:].flatten(), color='blue', label='actual price')\n",
    "plt.plot(predict_nn[:10,:].flatten(), color='red', label='forecast NN')\n",
    "plt.legend(frameon=False)\n",
    "plt.show()"
   ]
  },
  {
   "cell_type": "code",
   "execution_count": null,
   "metadata": {},
   "outputs": [],
   "source": []
  }
 ],
 "metadata": {
  "kernelspec": {
   "display_name": "Python 3",
   "language": "python",
   "name": "python3"
  },
  "language_info": {
   "codemirror_mode": {
    "name": "ipython",
    "version": 3
   },
   "file_extension": ".py",
   "mimetype": "text/x-python",
   "name": "python",
   "nbconvert_exporter": "python",
   "pygments_lexer": "ipython3",
   "version": "3.6.5"
  }
 },
 "nbformat": 4,
 "nbformat_minor": 2
}
